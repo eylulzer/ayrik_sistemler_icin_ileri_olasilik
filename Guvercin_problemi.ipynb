{
  "nbformat": 4,
  "nbformat_minor": 0,
  "metadata": {
    "colab": {
      "provenance": [],
      "toc_visible": true
    },
    "kernelspec": {
      "name": "python3",
      "display_name": "Python 3"
    },
    "language_info": {
      "name": "python"
    }
  },
  "cells": [
    {
      "cell_type": "markdown",
      "source": [],
      "metadata": {
        "id": "nDydYT0ougOq"
      }
    },
    {
      "cell_type": "markdown",
      "source": [
        "**Güvercin Problemi (ÖSYM Sorusu):**\n",
        "\n",
        "\n",
        "Banu, üç vagonlu bir yolcu treni için bilet satışı yapmaktadır. Belirli sayıda bilet sattıktan sonra Banu, ilk vagonda 6, ikinci vagonda ise 13 koltuğu boş kaldığını görüyor.\n",
        "\n",
        "Banu, her üç vagondan da birer bilet satışını garantilemek için en az bilet satması gerektiğini hesaplıyor ve sonucu 23 buluyor.\n",
        "\n",
        "Buna göre trendeki toplam boş koltuk sayısı kaçtır?\n",
        "\n",
        "\n",
        "**Çözüm: **\n",
        "\n",
        "1. vagon 6 boş\n",
        "2. vagon 13 boş\n",
        "3. vagon x boş\n",
        "\n",
        "Burada 3 durum var. En az 1 bilet satılması garanti edilmelidir.\n",
        "\n",
        "1. durum -> 6+13+1=20 -> 23 olması gerekli.\n",
        "2. durum -> 6+x+1=23  buradan x=16 olabilir.\n",
        "3. durum -> 13+x+1=23 buradan x=9\n",
        "\n",
        "En az denildiği için x=9 seçilmelidir.\n",
        "\n",
        "Toplam boş koltuk sayısı:\n",
        "6+13+9=28 olmalıdır.\n",
        "\n",
        "\n"
      ],
      "metadata": {
        "id": "SMjXVfMfwWr3"
      }
    },
    {
      "cell_type": "code",
      "source": [
        "# Verilen değişkenler\n",
        "bos_ilk = 6\n",
        "bos_ikinci = 13\n",
        "her_vagondan_en_az = 23\n",
        "\n",
        "# Üçüncü vagon için hesaplama\n",
        "# İlk senaryo hesaplaması (anlaşılırlığı kontrol etmek için)\n",
        "senaryo_bir = bos_ilk + bos_ikinci + 1  # Bu mantığı kontrol etmek için, 23'ten az olması bekleniyor\n",
        "\n",
        "# İkinci senaryo hesaplaması\n",
        "senaryo_iki = 23 - (bos_ilk + 1)  # Bu, ikinci senaryo için üçüncü vagonun boş koltuklarını hesaplar\n",
        "\n",
        "# Üçüncü senaryo hesaplaması\n",
        "senaryo_uc = 23 - (bos_ikinci + 1)  # Bu, üçüncü senaryo için üçüncü vagonun boş koltuklarını hesaplar\n",
        "\n",
        "# Sorunun ifadesine göre üçüncü vagon için en az boş koltuk sayısı seçilir, bu zaten kullanıcı tarafından doğru olarak hesaplanmıştır\n",
        "bos_ucuncu = min(senaryo_iki, senaryo_uc)\n",
        "\n",
        "# Tüm vagonlardaki toplam boş koltuk sayısını hesaplama\n",
        "toplam_bos_koltuklar = bos_ilk + bos_ikinci + bos_ucuncu\n",
        "\n",
        "toplam_bos_koltuklar\n"
      ],
      "metadata": {
        "id": "8WLJ4MAOzPBs"
      },
      "execution_count": null,
      "outputs": []
    },
    {
      "cell_type": "markdown",
      "source": [],
      "metadata": {
        "id": "xujyRyv05PYq"
      }
    }
  ]
}
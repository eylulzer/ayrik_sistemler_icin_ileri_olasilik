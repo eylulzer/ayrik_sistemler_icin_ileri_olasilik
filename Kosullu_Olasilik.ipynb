{
  "nbformat": 4,
  "nbformat_minor": 0,
  "metadata": {
    "colab": {
      "provenance": []
    },
    "kernelspec": {
      "name": "python3",
      "display_name": "Python 3"
    },
    "language_info": {
      "name": "python"
    }
  },
  "cells": [
    {
      "cell_type": "code",
      "execution_count": null,
      "metadata": {
        "id": "IBmHpH_JHFK6"
      },
      "outputs": [],
      "source": [
        "Koşullu Olasılık\n",
        "\n",
        "Soru: 100 kişilik bir grupta konut kredisi borcu olanlar 65 kişi, taşıt kredisi borcu olanlar 75 kişidir.\n",
        "Ne taşıt ne de konut kredisi borcu olmayanlar ise 12 kişidir.\n",
        "Bu gruptan rastgele seçilen bir kişinin taşıt kredisi borcu olduğu bilindiğine göre, konut için de borçlu olma olasılığı kaçtır?\n",
        "\n",
        "\n",
        "Çözüm: Bu soruda örnek uzay 100 kişidir.\n",
        "K: Konut kredisi borcu olanlar\n",
        "T: Taşıt kredisi borcu olanlar\n",
        "s(K) = 65 s(T) = 75\n",
        "s(K∪T) = 100-12 = 88\n",
        "s(K) + s(T) - s(K∩T) = 88\n",
        "65 + 75 - s(K∩T) = 88\n",
        "s(K∩T) = 52\n",
        "\n",
        "P(K|T) = s(K∩T)/s(T) = 52/75\n",
        ""
      ]
    },
    {
      "cell_type": "code",
      "source": [
        "# Verilen değerler\n",
        "toplam_kisi_sayisi = 100\n",
        "konut_kredisi_borcu_olanlar = 65\n",
        "tasit_kredisi_borcu_olanlar = 75\n",
        "ne_konut_ne_tasit_kredisi_borcu_olmayanlar = 12\n",
        "\n",
        "# En az bir kredi borcu olan kişilerin sayısını hesaplayalım\n",
        "en_az_bir_kredi_borcu_olanlar = toplam_kisi_sayisi - ne_konut_ne_tasit_kredisi_borcu_olmayanlar\n",
        "\n",
        "# Hem konut hem de taşıt kredisi borcu olan kişilerin sayısını bulalım\n",
        "# Kesişim kümesinin eleman sayısını hesaplama\n",
        "hem_konut_hem_tasit_kredisi_borcu_olanlar = (konut_kredisi_borcu_olanlar + tasit_kredisi_borcu_olanlar\n",
        "                                            - en_az_bir_kredi_borcu_olanlar)\n",
        "\n",
        "# P(K|T) olasılığını hesaplayalım: P(K ∩ T) / P(T)\n",
        "# P(K ∩ T) = hem_konut_hem_tasit_kredisi_borcu_olanlar / toplam_kisi_sayisi\n",
        "# P(T) = tasit_kredisi_borcu_olanlar / toplam_kisi_sayisi\n",
        "\n",
        "# P(K|T) = (hem_konut_hem_tasit_kredisi_borcu_olanlar / toplam_kisi_sayisi) / (tasit_kredisi_borcu_olanlar / toplam_kisi_sayisi)\n",
        "# P(K|T) = hem_konut_hem_tasit_kredisi_borcu_olanlar / tasit_kredisi_borcu_olanlar\n",
        "\n",
        "olasilik = hem_konut_hem_tasit_kredisi_borcu_olanlar / tasit_kredisi_borcu_olanlar\n",
        "olasilik\n"
      ],
      "metadata": {
        "colab": {
          "base_uri": "https://localhost:8080/"
        },
        "id": "hLYmkidrI8_K",
        "outputId": "d4a9fda2-0170-42dc-b193-e3cf48bcae60"
      },
      "execution_count": 1,
      "outputs": [
        {
          "output_type": "execute_result",
          "data": {
            "text/plain": [
              "0.6933333333333334"
            ]
          },
          "metadata": {},
          "execution_count": 1
        }
      ]
    }
  ]
}
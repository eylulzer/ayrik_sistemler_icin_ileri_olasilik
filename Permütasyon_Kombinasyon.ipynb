{
  "nbformat": 4,
  "nbformat_minor": 0,
  "metadata": {
    "colab": {
      "provenance": []
    },
    "kernelspec": {
      "name": "python3",
      "display_name": "Python 3"
    },
    "language_info": {
      "name": "python"
    }
  },
  "cells": [
    {
      "cell_type": "code",
      "execution_count": null,
      "metadata": {
        "id": "U5gGsC2Ef36E"
      },
      "outputs": [],
      "source": []
    },
    {
      "cell_type": "markdown",
      "source": [
        "**Permutasyon Örneği**\n",
        "**Soru:** Bir sınıfta 10 öğrenci vardır. Bu öğrencilerden oluşacak 4 kişilik bir futbol takımı için kaç farklı takım oluşturulabilir?\n",
        "\n",
        "**Çözüm:**\n",
        "Bu durumda sıralamanın önemi vardır çünkü takımın hangi pozisyonda kimin oynayacağı önemlidir. Bu yüzden permütasyon formülünü kullanırız.\n",
        "\n",
        "\n",
        "\n",
        "\n"
      ],
      "metadata": {
        "id": "DaBAUZgTgAVG"
      }
    },
    {
      "cell_type": "code",
      "source": [
        "from math import factorial\n",
        "\n",
        "# Permutasyon için verilenler\n",
        "n_perm = 10  # Toplam öğrenci sayısı\n",
        "r_perm = 4   # Takımda olacak öğrenci sayısı\n",
        "\n",
        "# Permutasyon hesaplama\n",
        "perm_result = factorial(n_perm) / factorial(n_perm - r_perm)\n",
        "\n",
        "print(perm_result)\n"
      ],
      "metadata": {
        "colab": {
          "base_uri": "https://localhost:8080/"
        },
        "id": "4gZ-CLfbgpqO",
        "outputId": "e8434708-207b-4c7b-fb57-a78db2ba178e"
      },
      "execution_count": 1,
      "outputs": [
        {
          "output_type": "stream",
          "name": "stdout",
          "text": [
            "5040.0\n"
          ]
        }
      ]
    },
    {
      "cell_type": "markdown",
      "source": [
        "**Kombinasyon Örneği**\n",
        "**Soru:** Aynı sınıftaki 10 öğrenciden oluşacak 4 kişilik bir çalışma grubu için kaç farklı grup oluşturulabilir?\n",
        "\n",
        "**Çözüm:**\n",
        "Bu durumda sıralamanın bir önemi yoktur, çünkü önemli olan grubun kimlerden oluştuğudur, kimin hangi sırada olduğu değil. Bu yüzden kombinasyon formülünü kullanırız.\n"
      ],
      "metadata": {
        "id": "sPh_NqhNgukv"
      }
    },
    {
      "cell_type": "code",
      "source": [
        "from math import factorial\n",
        "\n",
        "# Kombinasyon için verilenler\n",
        "n_comb = 10  # Toplam öğrenci sayısı\n",
        "r_comb = 4   # Grupda olacak öğrenci sayısı\n",
        "\n",
        "# Kombinasyon hesaplama\n",
        "comb_result = factorial(n_comb) / (factorial(r_comb) * factorial(n_comb - r_comb))\n",
        "\n",
        "print(comb_result)\n"
      ],
      "metadata": {
        "id": "-B3KQUG9hTLk"
      },
      "execution_count": null,
      "outputs": []
    },
    {
      "cell_type": "code",
      "source": [],
      "metadata": {
        "id": "ysnxXWJOhV_0"
      },
      "execution_count": null,
      "outputs": []
    }
  ]
}